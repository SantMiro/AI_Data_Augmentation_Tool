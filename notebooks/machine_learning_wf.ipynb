{
 "cells": [
  {
   "cell_type": "code",
   "execution_count": 1,
   "id": "758bbb99-934d-4a52-ad1a-1e3f39bf4680",
   "metadata": {},
   "outputs": [],
   "source": [
    "import pandas as pd\n",
    "import numpy as np\n",
    "from sklearn.model_selection import train_test_split\n",
    "from sklearn.preprocessing import StandardScaler\n",
    "from sklearn.ensemble import RandomForestClassifier\n",
    "from sklearn.metrics import accuracy_score, classification_report\n"
   ]
  },
  {
   "cell_type": "code",
   "execution_count": 27,
   "id": "1d2c3e19-5edb-4a5a-ae79-69375baaadd0",
   "metadata": {},
   "outputs": [],
   "source": [
    "data = pd.read_csv('../data/imbalanced_90_10.csv')\n",
    "augmented_data = pd.read_csv('../data/augmented_data.csv')"
   ]
  },
  {
   "cell_type": "code",
   "execution_count": 28,
   "id": "13739a98-8b5f-4cda-bf9b-7dca2c555d58",
   "metadata": {},
   "outputs": [],
   "source": [
    "X = data.drop(columns=['id','Class'])\n",
    "y = data['Class']"
   ]
  },
  {
   "cell_type": "code",
   "execution_count": 29,
   "id": "b54d746d-3bbf-4848-b612-ad8f53177128",
   "metadata": {},
   "outputs": [],
   "source": [
    "X_train, X_test, y_train, y_test = train_test_split(X, y, test_size=0.3, random_state=42)\n"
   ]
  },
  {
   "cell_type": "code",
   "execution_count": 31,
   "id": "bd5f97fe-5c17-4856-b70f-e0a5dea61f9e",
   "metadata": {},
   "outputs": [
    {
     "name": "stdout",
     "output_type": "stream",
     "text": [
      "Performance on Original Data:\n",
      "Accuracy: 0.9940\n",
      "Classification Report:\n",
      "              precision    recall  f1-score   support\n",
      "\n",
      "           0       0.99      1.00      1.00     17059\n",
      "           1       0.99      0.94      0.97      1706\n",
      "\n",
      "    accuracy                           0.99     18765\n",
      "   macro avg       0.99      0.97      0.98     18765\n",
      "weighted avg       0.99      0.99      0.99     18765\n",
      "\n"
     ]
    }
   ],
   "source": [
    "model = RandomForestClassifier(random_state=42)\n",
    "model.fit(X_train, y_train)\n",
    "\n",
    "# Predict and evaluate\n",
    "y_pred = model.predict(X_test)\n",
    "print(\"Performance on Original Data:\")\n",
    "print(f\"Accuracy: {accuracy_score(y_test, y_pred):.4f}\")\n",
    "print(\"Classification Report:\")\n",
    "print(classification_report(y_test, y_pred))"
   ]
  },
  {
   "cell_type": "code",
   "execution_count": 22,
   "id": "90f3f61e-4e7c-4fbd-9fca-53a2f205f66b",
   "metadata": {},
   "outputs": [],
   "source": [
    "def stratified_sample(X, y, sample_size=0.2, random_state=42):\n",
    "\n",
    "    # Get a stratified sample of the data\n",
    "    X_sampled, _, y_sampled, _ = train_test_split(X, y, \n",
    "                                                  test_size=1-sample_size, \n",
    "                                                  stratify=y, \n",
    "                                                  random_state=random_state)\n",
    "    \n",
    "    # Further split the sampled data into training and testing sets\n",
    "    X_train, X_test, y_train, y_test = train_test_split(X_sampled, y_sampled, \n",
    "                                                        test_size=0.3,  # or another ratio\n",
    "                                                        stratify=y_sampled, \n",
    "                                                        random_state=random_state)\n",
    "    \n",
    "    return X_train, X_test, y_train, y_test\n"
   ]
  },
  {
   "cell_type": "code",
   "execution_count": 30,
   "id": "4f3aef62-125c-4485-8b9d-8f142d4972d7",
   "metadata": {},
   "outputs": [],
   "source": [
    "X_train, X_test, y_train, y_test = stratified_sample(X,y)"
   ]
  },
  {
   "cell_type": "code",
   "execution_count": 18,
   "id": "d2760a63-d0b6-4864-9e3c-309758086139",
   "metadata": {},
   "outputs": [
    {
     "name": "stdout",
     "output_type": "stream",
     "text": [
      "995\n"
     ]
    }
   ],
   "source": [
    "count = 0\n",
    "for element in y_train:\n",
    "    if element ==1:\n",
    "        count +=1\n",
    "print(count)"
   ]
  },
  {
   "cell_type": "code",
   "execution_count": 32,
   "id": "03eef0ab-8f05-4b02-b47e-357a8cc9e8e9",
   "metadata": {},
   "outputs": [],
   "source": [
    "X_augmented = augmented_data.drop(columns=['Class'])\n",
    "y_augmented = augmented_data['Class']"
   ]
  },
  {
   "cell_type": "code",
   "execution_count": 33,
   "id": "f400eae1-d7b5-4b77-985e-d23b635047e5",
   "metadata": {},
   "outputs": [],
   "source": [
    "X_train_augmented, X_test_augmented, y_train_augmented, y_test_augmented = stratified_sample(X_augmented,y_augmented)"
   ]
  },
  {
   "cell_type": "code",
   "execution_count": 34,
   "id": "d488c039-bb9c-4596-9a7f-804355545467",
   "metadata": {},
   "outputs": [
    {
     "name": "stdout",
     "output_type": "stream",
     "text": [
      "Performance on Original Data:\n",
      "Accuracy: 0.0935\n",
      "Classification Report:\n",
      "              precision    recall  f1-score   support\n",
      "\n",
      "           0       0.00      0.00      0.00         0\n",
      "           1       1.00      0.09      0.17     26442\n",
      "\n",
      "    accuracy                           0.09     26442\n",
      "   macro avg       0.50      0.05      0.09     26442\n",
      "weighted avg       1.00      0.09      0.17     26442\n",
      "\n"
     ]
    },
    {
     "name": "stderr",
     "output_type": "stream",
     "text": [
      "C:\\Users\\mirot\\Documents\\Data_Science\\AI_Data_Augmentation\\env\\Lib\\site-packages\\sklearn\\metrics\\_classification.py:1531: UndefinedMetricWarning: Recall is ill-defined and being set to 0.0 in labels with no true samples. Use `zero_division` parameter to control this behavior.\n",
      "  _warn_prf(average, modifier, f\"{metric.capitalize()} is\", len(result))\n",
      "C:\\Users\\mirot\\Documents\\Data_Science\\AI_Data_Augmentation\\env\\Lib\\site-packages\\sklearn\\metrics\\_classification.py:1531: UndefinedMetricWarning: Recall is ill-defined and being set to 0.0 in labels with no true samples. Use `zero_division` parameter to control this behavior.\n",
      "  _warn_prf(average, modifier, f\"{metric.capitalize()} is\", len(result))\n",
      "C:\\Users\\mirot\\Documents\\Data_Science\\AI_Data_Augmentation\\env\\Lib\\site-packages\\sklearn\\metrics\\_classification.py:1531: UndefinedMetricWarning: Recall is ill-defined and being set to 0.0 in labels with no true samples. Use `zero_division` parameter to control this behavior.\n",
      "  _warn_prf(average, modifier, f\"{metric.capitalize()} is\", len(result))\n"
     ]
    }
   ],
   "source": [
    "model_augmented = RandomForestClassifier(random_state=42)\n",
    "model_augmented.fit(X_train_augmented, y_train_augmented)\n",
    "\n",
    "# Predict and evaluate\n",
    "y_pred_augmented = model.predict(X_test_augmented)\n",
    "print(\"Performance on Original Data:\")\n",
    "print(f\"Accuracy: {accuracy_score(y_test_augmented, y_pred_augmented):.4f}\")\n",
    "print(\"Classification Report:\")\n",
    "print(classification_report(y_test_augmented, y_pred_augmented))"
   ]
  },
  {
   "cell_type": "code",
   "execution_count": null,
   "id": "a47041ed-fff5-4dfe-8217-58adab384607",
   "metadata": {},
   "outputs": [],
   "source": []
  }
 ],
 "metadata": {
  "kernelspec": {
   "display_name": "Python 3 (ipykernel)",
   "language": "python",
   "name": "python3"
  },
  "language_info": {
   "codemirror_mode": {
    "name": "ipython",
    "version": 3
   },
   "file_extension": ".py",
   "mimetype": "text/x-python",
   "name": "python",
   "nbconvert_exporter": "python",
   "pygments_lexer": "ipython3",
   "version": "3.12.5"
  }
 },
 "nbformat": 4,
 "nbformat_minor": 5
}
